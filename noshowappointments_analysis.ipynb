{
 "cells": [
  {
   "cell_type": "markdown",
   "metadata": {},
   "source": [
    "\n",
    "\n",
    "# 项目：预约挂号实际就诊情况数据分析\n",
    "\n",
    "\n",
    "## 目录\n",
    "<ul>\n",
    "<li><a href=\"#intro\">简介</a></li>\n",
    "<li><a href=\"#wrangling\">数据整理</a></li>\n",
    "<li><a href=\"#eda\">探索性数据分析</a></li>\n",
    "<li><a href=\"#conclusions\">结论</a></li>\n",
    "</ul>\n",
    "\n",
    "<a id='intro'></a>\n",
    "## 简介\n",
    "\n",
    "\n",
    "医疗是与每个人息息相关的话题，在这个人口众多、快节奏的社会，提高医疗服务质量，构建和谐的医患关系十分重要。挂号预约是个非常便民的服务，可是由于一些病人的爽约，导致医疗资源的闲置而拖延了其他患者的就诊时间。针对爽约患者的特征进行研究，有助于预测患者是否按时预约。对于今后规范挂号预约流程、采取措施提高服务质量和效率十分重要。\n",
    "\n",
    "此次研究采用包含10万条巴西预约挂号的求诊信息（数据来源：Kaggle），研究病人是否如约前往医院就诊，每行数据录入了有关患者特点的多个数值。数据集包含信息如下：\n",
    "\n",
    "1. PatientId：病人ID\n",
    "2. AppointmentID：预约ID\n",
    "3. Gender：男性或女性。其中女性占据大部分比例，相比于男性而言女性更关心自己的身体健康。\n",
    "4. ScheduledDay：预约日期\n",
    "5. ScheduledDay：就诊日期\n",
    "6. age：年龄\n",
    "7. Neighbourhood：预约医院地点\n",
    "8. Scholarship：福利保障\n",
    "9. Hipertension：高血压\n",
    "10. Diabetes：糖尿病\n",
    "11. Alcoholism：酗酒\n",
    "12. Handcap：残疾人士\n",
    "13. SMS_received：是否收到信息，0表示没有收到短信，1表示收到短信\n",
    "14. No-show：爽约"
   ]
  },
  {
   "cell_type": "code",
   "execution_count": 4,
   "metadata": {},
   "outputs": [],
   "source": [
    "import pandas as pd\n",
    "import numpy as np\n",
    "import matplotlib.pyplot as plt\n",
    "%matplotlib inline\n"
   ]
  },
  {
   "cell_type": "markdown",
   "metadata": {},
   "source": [
    "<a id='wrangling'></a>\n",
    "## 数据整理\n",
    "\n",
    "\n",
    "### 常规属性"
   ]
  },
  {
   "cell_type": "code",
   "execution_count": 5,
   "metadata": {},
   "outputs": [
    {
     "data": {
      "text/html": [
       "<div>\n",
       "<style scoped>\n",
       "    .dataframe tbody tr th:only-of-type {\n",
       "        vertical-align: middle;\n",
       "    }\n",
       "\n",
       "    .dataframe tbody tr th {\n",
       "        vertical-align: top;\n",
       "    }\n",
       "\n",
       "    .dataframe thead th {\n",
       "        text-align: right;\n",
       "    }\n",
       "</style>\n",
       "<table border=\"1\" class=\"dataframe\">\n",
       "  <thead>\n",
       "    <tr style=\"text-align: right;\">\n",
       "      <th></th>\n",
       "      <th>PatientId</th>\n",
       "      <th>AppointmentID</th>\n",
       "      <th>Gender</th>\n",
       "      <th>ScheduledDay</th>\n",
       "      <th>AppointmentDay</th>\n",
       "      <th>Age</th>\n",
       "      <th>Neighbourhood</th>\n",
       "      <th>Scholarship</th>\n",
       "      <th>Hipertension</th>\n",
       "      <th>Diabetes</th>\n",
       "      <th>Alcoholism</th>\n",
       "      <th>Handcap</th>\n",
       "      <th>SMS_received</th>\n",
       "      <th>No-show</th>\n",
       "    </tr>\n",
       "  </thead>\n",
       "  <tbody>\n",
       "    <tr>\n",
       "      <td>0</td>\n",
       "      <td>2.987250e+13</td>\n",
       "      <td>5642903</td>\n",
       "      <td>F</td>\n",
       "      <td>2016-04-29T18:38:08Z</td>\n",
       "      <td>2016-04-29T00:00:00Z</td>\n",
       "      <td>62</td>\n",
       "      <td>JARDIM DA PENHA</td>\n",
       "      <td>0</td>\n",
       "      <td>1</td>\n",
       "      <td>0</td>\n",
       "      <td>0</td>\n",
       "      <td>0</td>\n",
       "      <td>0</td>\n",
       "      <td>No</td>\n",
       "    </tr>\n",
       "    <tr>\n",
       "      <td>1</td>\n",
       "      <td>5.589978e+14</td>\n",
       "      <td>5642503</td>\n",
       "      <td>M</td>\n",
       "      <td>2016-04-29T16:08:27Z</td>\n",
       "      <td>2016-04-29T00:00:00Z</td>\n",
       "      <td>56</td>\n",
       "      <td>JARDIM DA PENHA</td>\n",
       "      <td>0</td>\n",
       "      <td>0</td>\n",
       "      <td>0</td>\n",
       "      <td>0</td>\n",
       "      <td>0</td>\n",
       "      <td>0</td>\n",
       "      <td>No</td>\n",
       "    </tr>\n",
       "  </tbody>\n",
       "</table>\n",
       "</div>"
      ],
      "text/plain": [
       "      PatientId  AppointmentID Gender          ScheduledDay  \\\n",
       "0  2.987250e+13        5642903      F  2016-04-29T18:38:08Z   \n",
       "1  5.589978e+14        5642503      M  2016-04-29T16:08:27Z   \n",
       "\n",
       "         AppointmentDay  Age    Neighbourhood  Scholarship  Hipertension  \\\n",
       "0  2016-04-29T00:00:00Z   62  JARDIM DA PENHA            0             1   \n",
       "1  2016-04-29T00:00:00Z   56  JARDIM DA PENHA            0             0   \n",
       "\n",
       "   Diabetes  Alcoholism  Handcap  SMS_received No-show  \n",
       "0         0           0        0             0      No  \n",
       "1         0           0        0             0      No  "
      ]
     },
     "execution_count": 5,
     "metadata": {},
     "output_type": "execute_result"
    }
   ],
   "source": [
    "# 加载数据并打印两行查看数据内容\n",
    "df = pd.read_csv('noshowappointments-kagglev2-may-2016.csv')\n",
    "df.head(2)"
   ]
  },
  {
   "cell_type": "code",
   "execution_count": 6,
   "metadata": {},
   "outputs": [
    {
     "data": {
      "text/plain": [
       "(110527, 14)"
      ]
     },
     "execution_count": 6,
     "metadata": {},
     "output_type": "execute_result"
    }
   ],
   "source": [
    "df.shape #查看数据的形状"
   ]
  },
  {
   "cell_type": "code",
   "execution_count": 7,
   "metadata": {},
   "outputs": [
    {
     "data": {
      "text/plain": [
       "0"
      ]
     },
     "execution_count": 7,
     "metadata": {},
     "output_type": "execute_result"
    }
   ],
   "source": [
    "#查看是否重复数据\n",
    "df.duplicated().sum()"
   ]
  },
  {
   "cell_type": "markdown",
   "metadata": {},
   "source": [
    "**无重复数据**"
   ]
  },
  {
   "cell_type": "code",
   "execution_count": 8,
   "metadata": {},
   "outputs": [
    {
     "name": "stdout",
     "output_type": "stream",
     "text": [
      "<class 'pandas.core.frame.DataFrame'>\n",
      "RangeIndex: 110527 entries, 0 to 110526\n",
      "Data columns (total 14 columns):\n",
      "PatientId         110527 non-null float64\n",
      "AppointmentID     110527 non-null int64\n",
      "Gender            110527 non-null object\n",
      "ScheduledDay      110527 non-null object\n",
      "AppointmentDay    110527 non-null object\n",
      "Age               110527 non-null int64\n",
      "Neighbourhood     110527 non-null object\n",
      "Scholarship       110527 non-null int64\n",
      "Hipertension      110527 non-null int64\n",
      "Diabetes          110527 non-null int64\n",
      "Alcoholism        110527 non-null int64\n",
      "Handcap           110527 non-null int64\n",
      "SMS_received      110527 non-null int64\n",
      "No-show           110527 non-null object\n",
      "dtypes: float64(1), int64(8), object(5)\n",
      "memory usage: 11.8+ MB\n"
     ]
    }
   ],
   "source": [
    "# 查看数据类型，以及是否有缺失数据或错误数据的情况\n",
    "df.info()"
   ]
  },
  {
   "cell_type": "markdown",
   "metadata": {},
   "source": [
    "**无缺失值**"
   ]
  },
  {
   "cell_type": "markdown",
   "metadata": {},
   "source": [
    "\n",
    "### 数据清理"
   ]
  },
  {
   "cell_type": "markdown",
   "metadata": {},
   "source": [
    "### 1、ScheduledDay和AppointmentDay应用to_datetime()方法转换为datetime格式，并算出从预约到赴约的时间间隔。"
   ]
  },
  {
   "cell_type": "code",
   "execution_count": 9,
   "metadata": {},
   "outputs": [
    {
     "data": {
      "text/plain": [
       "count    110527.000000\n",
       "mean          9.183702\n",
       "std          15.254996\n",
       "min          -7.000000\n",
       "25%          -1.000000\n",
       "50%           3.000000\n",
       "75%          14.000000\n",
       "max         178.000000\n",
       "Name: TimeSpan, dtype: float64"
      ]
     },
     "execution_count": 9,
     "metadata": {},
     "output_type": "execute_result"
    }
   ],
   "source": [
    "#把ScheduledDay和AppointmentDay转换为datetime格式\n",
    "df['ScheduledDay']=pd.to_datetime(df['ScheduledDay'])\n",
    "df['AppointmentDay'] = pd.to_datetime(df['AppointmentDay'])\n",
    "\n",
    "#算出时间间隔\n",
    "df['TimeSpan']=df['AppointmentDay']-df['ScheduledDay']\n",
    "df['TimeSpan']=df['TimeSpan'].apply(lambda x:x.days)\n",
    "\n",
    "#查看TimeSpan的信息\n",
    "df['TimeSpan'].describe()"
   ]
  },
  {
   "cell_type": "code",
   "execution_count": 10,
   "metadata": {},
   "outputs": [
    {
     "data": {
      "text/plain": [
       "count    110522.000000\n",
       "mean          9.184253\n",
       "std          15.255115\n",
       "min          -1.000000\n",
       "25%          -1.000000\n",
       "50%           3.000000\n",
       "75%          14.000000\n",
       "max         178.000000\n",
       "Name: TimeSpan, dtype: float64"
      ]
     },
     "execution_count": 10,
     "metadata": {},
     "output_type": "execute_result"
    }
   ],
   "source": [
    "#当天赴约的值应该为-1、0，然而这里最小值为-7，需要进行筛选\n",
    "df=df.query('TimeSpan>=-1')\n",
    "#再次检查TimeSpan的信息\n",
    "df['TimeSpan'].describe()"
   ]
  },
  {
   "cell_type": "code",
   "execution_count": 11,
   "metadata": {},
   "outputs": [],
   "source": [
    "#使用cut函数，创建Waiting列\n",
    "label=['AtOnce','OneDay','OneWeek','TwoWeeks','OneMonth','>OneMonth']   #时间区间标签\n",
    "array=[-2,0,1,7,14,30,178]  #分隔边缘array\n",
    "df['Waiting']=pd.cut(df['TimeSpan'],array,labels=label) #将年龄段进行分割"
   ]
  },
  {
   "cell_type": "markdown",
   "metadata": {},
   "source": [
    "### 2、由于年龄数据较为离散，将年龄分段：0-17岁为未成年人，18-35岁为青年人，35-65位中年人，65岁以上为老年人"
   ]
  },
  {
   "cell_type": "code",
   "execution_count": 12,
   "metadata": {},
   "outputs": [
    {
     "data": {
      "text/plain": [
       "count    110522.000000\n",
       "mean         37.089041\n",
       "std          23.110064\n",
       "min          -1.000000\n",
       "25%          18.000000\n",
       "50%          37.000000\n",
       "75%          55.000000\n",
       "max         115.000000\n",
       "Name: Age, dtype: float64"
      ]
     },
     "execution_count": 12,
     "metadata": {},
     "output_type": "execute_result"
    }
   ],
   "source": [
    "df['Age'].describe()"
   ]
  },
  {
   "cell_type": "code",
   "execution_count": 13,
   "metadata": {},
   "outputs": [],
   "source": [
    "#最小年龄为-1，需要清除异常值\n",
    "df=df.query('Age>=0')"
   ]
  },
  {
   "cell_type": "code",
   "execution_count": 14,
   "metadata": {},
   "outputs": [
    {
     "data": {
      "text/plain": [
       "0         middle-aged\n",
       "1         middle-aged\n",
       "2         middle-aged\n",
       "3            juvenile\n",
       "4         middle-aged\n",
       "             ...     \n",
       "110522    middle-aged\n",
       "110523    middle-aged\n",
       "110524          youth\n",
       "110525    middle-aged\n",
       "110526    middle-aged\n",
       "Name: Generation, Length: 110521, dtype: category\n",
       "Categories (4, object): [juvenile < youth < middle-aged < elderly]"
      ]
     },
     "execution_count": 14,
     "metadata": {},
     "output_type": "execute_result"
    }
   ],
   "source": [
    "#将年龄段进行划分\n",
    "label=['juvenile','youth','middle-aged','elderly']   #年龄段标签\n",
    "edge_bin=[-1,17,35,65,116]   #年龄分隔边缘\n",
    "df['Generation'] = pd.cut(df['Age'],edge_bin,labels=label)\n",
    "df['Generation']"
   ]
  },
  {
   "cell_type": "markdown",
   "metadata": {},
   "source": [
    "### 3.列名规范：No—show：No_show，Handcap：Handicap，AppointmentID：AppointmentId"
   ]
  },
  {
   "cell_type": "code",
   "execution_count": 15,
   "metadata": {},
   "outputs": [
    {
     "data": {
      "text/html": [
       "<div>\n",
       "<style scoped>\n",
       "    .dataframe tbody tr th:only-of-type {\n",
       "        vertical-align: middle;\n",
       "    }\n",
       "\n",
       "    .dataframe tbody tr th {\n",
       "        vertical-align: top;\n",
       "    }\n",
       "\n",
       "    .dataframe thead th {\n",
       "        text-align: right;\n",
       "    }\n",
       "</style>\n",
       "<table border=\"1\" class=\"dataframe\">\n",
       "  <thead>\n",
       "    <tr style=\"text-align: right;\">\n",
       "      <th></th>\n",
       "      <th>PatientId</th>\n",
       "      <th>AppointmentId</th>\n",
       "      <th>Gender</th>\n",
       "      <th>ScheduledDay</th>\n",
       "      <th>AppointmentDay</th>\n",
       "      <th>Age</th>\n",
       "      <th>Neighbourhood</th>\n",
       "      <th>Scholarship</th>\n",
       "      <th>Hipertension</th>\n",
       "      <th>Diabetes</th>\n",
       "      <th>Alcoholism</th>\n",
       "      <th>Handicap</th>\n",
       "      <th>SMS_received</th>\n",
       "      <th>No_show</th>\n",
       "      <th>TimeSpan</th>\n",
       "      <th>Waiting</th>\n",
       "      <th>Generation</th>\n",
       "    </tr>\n",
       "  </thead>\n",
       "  <tbody>\n",
       "    <tr>\n",
       "      <td>0</td>\n",
       "      <td>2.987250e+13</td>\n",
       "      <td>5642903</td>\n",
       "      <td>F</td>\n",
       "      <td>2016-04-29 18:38:08+00:00</td>\n",
       "      <td>2016-04-29 00:00:00+00:00</td>\n",
       "      <td>62</td>\n",
       "      <td>JARDIM DA PENHA</td>\n",
       "      <td>0</td>\n",
       "      <td>1</td>\n",
       "      <td>0</td>\n",
       "      <td>0</td>\n",
       "      <td>0</td>\n",
       "      <td>0</td>\n",
       "      <td>No</td>\n",
       "      <td>-1</td>\n",
       "      <td>AtOnce</td>\n",
       "      <td>middle-aged</td>\n",
       "    </tr>\n",
       "    <tr>\n",
       "      <td>1</td>\n",
       "      <td>5.589978e+14</td>\n",
       "      <td>5642503</td>\n",
       "      <td>M</td>\n",
       "      <td>2016-04-29 16:08:27+00:00</td>\n",
       "      <td>2016-04-29 00:00:00+00:00</td>\n",
       "      <td>56</td>\n",
       "      <td>JARDIM DA PENHA</td>\n",
       "      <td>0</td>\n",
       "      <td>0</td>\n",
       "      <td>0</td>\n",
       "      <td>0</td>\n",
       "      <td>0</td>\n",
       "      <td>0</td>\n",
       "      <td>No</td>\n",
       "      <td>-1</td>\n",
       "      <td>AtOnce</td>\n",
       "      <td>middle-aged</td>\n",
       "    </tr>\n",
       "    <tr>\n",
       "      <td>2</td>\n",
       "      <td>4.262962e+12</td>\n",
       "      <td>5642549</td>\n",
       "      <td>F</td>\n",
       "      <td>2016-04-29 16:19:04+00:00</td>\n",
       "      <td>2016-04-29 00:00:00+00:00</td>\n",
       "      <td>62</td>\n",
       "      <td>MATA DA PRAIA</td>\n",
       "      <td>0</td>\n",
       "      <td>0</td>\n",
       "      <td>0</td>\n",
       "      <td>0</td>\n",
       "      <td>0</td>\n",
       "      <td>0</td>\n",
       "      <td>No</td>\n",
       "      <td>-1</td>\n",
       "      <td>AtOnce</td>\n",
       "      <td>middle-aged</td>\n",
       "    </tr>\n",
       "    <tr>\n",
       "      <td>3</td>\n",
       "      <td>8.679512e+11</td>\n",
       "      <td>5642828</td>\n",
       "      <td>F</td>\n",
       "      <td>2016-04-29 17:29:31+00:00</td>\n",
       "      <td>2016-04-29 00:00:00+00:00</td>\n",
       "      <td>8</td>\n",
       "      <td>PONTAL DE CAMBURI</td>\n",
       "      <td>0</td>\n",
       "      <td>0</td>\n",
       "      <td>0</td>\n",
       "      <td>0</td>\n",
       "      <td>0</td>\n",
       "      <td>0</td>\n",
       "      <td>No</td>\n",
       "      <td>-1</td>\n",
       "      <td>AtOnce</td>\n",
       "      <td>juvenile</td>\n",
       "    </tr>\n",
       "    <tr>\n",
       "      <td>4</td>\n",
       "      <td>8.841186e+12</td>\n",
       "      <td>5642494</td>\n",
       "      <td>F</td>\n",
       "      <td>2016-04-29 16:07:23+00:00</td>\n",
       "      <td>2016-04-29 00:00:00+00:00</td>\n",
       "      <td>56</td>\n",
       "      <td>JARDIM DA PENHA</td>\n",
       "      <td>0</td>\n",
       "      <td>1</td>\n",
       "      <td>1</td>\n",
       "      <td>0</td>\n",
       "      <td>0</td>\n",
       "      <td>0</td>\n",
       "      <td>No</td>\n",
       "      <td>-1</td>\n",
       "      <td>AtOnce</td>\n",
       "      <td>middle-aged</td>\n",
       "    </tr>\n",
       "  </tbody>\n",
       "</table>\n",
       "</div>"
      ],
      "text/plain": [
       "      PatientId  AppointmentId Gender              ScheduledDay  \\\n",
       "0  2.987250e+13        5642903      F 2016-04-29 18:38:08+00:00   \n",
       "1  5.589978e+14        5642503      M 2016-04-29 16:08:27+00:00   \n",
       "2  4.262962e+12        5642549      F 2016-04-29 16:19:04+00:00   \n",
       "3  8.679512e+11        5642828      F 2016-04-29 17:29:31+00:00   \n",
       "4  8.841186e+12        5642494      F 2016-04-29 16:07:23+00:00   \n",
       "\n",
       "             AppointmentDay  Age      Neighbourhood  Scholarship  \\\n",
       "0 2016-04-29 00:00:00+00:00   62    JARDIM DA PENHA            0   \n",
       "1 2016-04-29 00:00:00+00:00   56    JARDIM DA PENHA            0   \n",
       "2 2016-04-29 00:00:00+00:00   62      MATA DA PRAIA            0   \n",
       "3 2016-04-29 00:00:00+00:00    8  PONTAL DE CAMBURI            0   \n",
       "4 2016-04-29 00:00:00+00:00   56    JARDIM DA PENHA            0   \n",
       "\n",
       "   Hipertension  Diabetes  Alcoholism  Handicap  SMS_received No_show  \\\n",
       "0             1         0           0         0             0      No   \n",
       "1             0         0           0         0             0      No   \n",
       "2             0         0           0         0             0      No   \n",
       "3             0         0           0         0             0      No   \n",
       "4             1         1           0         0             0      No   \n",
       "\n",
       "   TimeSpan Waiting   Generation  \n",
       "0        -1  AtOnce  middle-aged  \n",
       "1        -1  AtOnce  middle-aged  \n",
       "2        -1  AtOnce  middle-aged  \n",
       "3        -1  AtOnce     juvenile  \n",
       "4        -1  AtOnce  middle-aged  "
      ]
     },
     "execution_count": 15,
     "metadata": {},
     "output_type": "execute_result"
    }
   ],
   "source": [
    "df.rename(columns={'AppointmentID':'AppointmentId', 'Handcap':'Handicap', 'No-show':'No_show'}, inplace=True)\n",
    "\n",
    "#再次查看列，审核清理的数据\n",
    "df.head(5)"
   ]
  },
  {
   "cell_type": "markdown",
   "metadata": {},
   "source": [
    "<a id='eda'></a>\n",
    "## 探索性数据分析\n",
    "\n",
    "\n",
    "### 研究问题 1 较长的等待时间是否会影响赴约就诊？"
   ]
  },
  {
   "cell_type": "code",
   "execution_count": 16,
   "metadata": {},
   "outputs": [],
   "source": [
    "#计算不同情况下的爽约比例函数\n",
    "def proportion(column):\n",
    "    no_show_counts = df.query('No_show == \"Yes\"').groupby(column)['No_show'].count()#算出指定列不同条件下未就诊人数\n",
    "    total = df.groupby(column)['No_show'].count() #算出指定列不同条件下的总人数\n",
    "    proportion = no_show_counts/total #算出比例\n",
    "    return proportion"
   ]
  },
  {
   "cell_type": "code",
   "execution_count": 17,
   "metadata": {},
   "outputs": [
    {
     "data": {
      "text/plain": [
       "Waiting\n",
       "AtOnce       0.066362\n",
       "OneDay       0.238216\n",
       "OneWeek      0.253643\n",
       "TwoWeeks     0.312254\n",
       "OneMonth     0.325212\n",
       ">OneMonth    0.330208\n",
       "Name: No_show, dtype: float64"
      ]
     },
     "execution_count": 17,
     "metadata": {},
     "output_type": "execute_result"
    }
   ],
   "source": [
    "#不同等待时间下，爽约人数的比例\n",
    "Waiting_P=proportion('Waiting')\n",
    "Waiting_P"
   ]
  },
  {
   "cell_type": "code",
   "execution_count": 18,
   "metadata": {},
   "outputs": [
    {
     "data": {
      "image/png": "[encoded data removed]",
      "text/plain": [
       "<Figure size 432x288 with 1 Axes>"
      ]
     },
     "metadata": {
      "needs_background": "light"
     },
     "output_type": "display_data"
    }
   ],
   "source": [
    "#在柱状图上绘制比例\n",
    "# 绘制条柱\n",
    "proportion_bars = plt.bar(np.arange(len(Waiting_P)),Waiting_P,0.35)\n",
    "plt.ylabel('Proportions of No show')\n",
    "plt.xlabel('Waiting Time')\n",
    "plt.title('Possibility of No show by different waiting time')\n",
    "plt.xticks(np.arange(len(Waiting_P)),Waiting_P.index.tolist());\n"
   ]
  },
  {
   "cell_type": "markdown",
   "metadata": {},
   "source": [
    "### 由上述可以看出，随着等待时间的增加，爽约的比例就越高。当天预约的人准时就诊的概率远高于其他的情况。"
   ]
  },
  {
   "cell_type": "markdown",
   "metadata": {},
   "source": [
    "### 研究问题 2 不同年龄段的病人按时赴约的情况"
   ]
  },
  {
   "cell_type": "code",
   "execution_count": 19,
   "metadata": {},
   "outputs": [
    {
     "data": {
      "text/plain": [
       "Generation\n",
       "juvenile       0.219008\n",
       "youth          0.238116\n",
       "middle-aged    0.184347\n",
       "elderly        0.155263\n",
       "Name: No_show, dtype: float64"
      ]
     },
     "execution_count": 19,
     "metadata": {},
     "output_type": "execute_result"
    }
   ],
   "source": [
    "#不同年龄段下爽约的比例\n",
    "Generation_P=proportion('Generation')\n",
    "Generation_P"
   ]
  },
  {
   "cell_type": "code",
   "execution_count": 20,
   "metadata": {},
   "outputs": [
    {
     "data": {
      "image/png": "[encoded data removed]",
      "text/plain": [
       "<Figure size 432x288 with 1 Axes>"
      ]
     },
     "metadata": {
      "needs_background": "light"
     },
     "output_type": "display_data"
    }
   ],
   "source": [
    "#进行可视化分析\n",
    "Proportion_bar = plt.bar(np.arange(len(Generation_P)),Generation_P,0.35)\n",
    "plt.ylabel('proportion by different generation')\n",
    "plt.xlabel('Generation')\n",
    "plt.title('Possibility of No show by different generation')\n",
    "plt.xticks(np.arange(len(Generation_P)),Generation_P.index.tolist());"
   ]
  },
  {
   "cell_type": "markdown",
   "metadata": {},
   "source": [
    "### 由上述图可以看出，青年人和未成年人的爽约比例要大于中年人和老年人。中老年人按时就诊的可能性最高。"
   ]
  },
  {
   "cell_type": "markdown",
   "metadata": {},
   "source": [
    "### 研究问题 3  收到短信是否会增加纠正率"
   ]
  },
  {
   "cell_type": "code",
   "execution_count": 21,
   "metadata": {},
   "outputs": [
    {
     "data": {
      "text/plain": [
       "SMS_received\n",
       "0    0.166980\n",
       "1    0.275745\n",
       "Name: No_show, dtype: float64"
      ]
     },
     "execution_count": 21,
     "metadata": {},
     "output_type": "execute_result"
    }
   ],
   "source": [
    "#计算是否收到短信爽约的比例\n",
    "SMS_P=proportion('SMS_received')\n",
    "SMS_P"
   ]
  },
  {
   "cell_type": "code",
   "execution_count": 22,
   "metadata": {},
   "outputs": [
    {
     "data": {
      "image/png": "[encoded data removed]",
      "text/plain": [
       "<Figure size 432x288 with 1 Axes>"
      ]
     },
     "metadata": {
      "needs_background": "light"
     },
     "output_type": "display_data"
    }
   ],
   "source": [
    "#可视化比例\n",
    "proportion_bar = plt.bar(np.arange(len(SMS_P)),SMS_P,0.35)\n",
    "plt.xlabel('SMS_received')\n",
    "plt.ylabel('proportion')\n",
    "plt.title('Possibility of No show by SMS received')\n",
    "plt.xticks(np.arange(len(SMS_P)),['No','Yes']);"
   ]
  },
  {
   "cell_type": "markdown",
   "metadata": {},
   "source": [
    "### 可以看出收到短信的患者失约的比例更多，说明短信对于如约就诊没有帮助"
   ]
  },
  {
   "cell_type": "markdown",
   "metadata": {},
   "source": [
    "### 研究问题3  不同疾病的年龄分布"
   ]
  },
  {
   "cell_type": "code",
   "execution_count": 23,
   "metadata": {},
   "outputs": [
    {
     "data": {
      "text/html": [
       "<div>\n",
       "<style scoped>\n",
       "    .dataframe tbody tr th:only-of-type {\n",
       "        vertical-align: middle;\n",
       "    }\n",
       "\n",
       "    .dataframe tbody tr th {\n",
       "        vertical-align: top;\n",
       "    }\n",
       "\n",
       "    .dataframe thead th {\n",
       "        text-align: right;\n",
       "    }\n",
       "</style>\n",
       "<table border=\"1\" class=\"dataframe\">\n",
       "  <thead>\n",
       "    <tr style=\"text-align: right;\">\n",
       "      <th></th>\n",
       "      <th>PatientId</th>\n",
       "      <th>AppointmentId</th>\n",
       "      <th>Age</th>\n",
       "      <th>Scholarship</th>\n",
       "      <th>Hipertension</th>\n",
       "      <th>Diabetes</th>\n",
       "      <th>Alcoholism</th>\n",
       "      <th>Handicap</th>\n",
       "      <th>SMS_received</th>\n",
       "      <th>TimeSpan</th>\n",
       "    </tr>\n",
       "    <tr>\n",
       "      <th>Generation</th>\n",
       "      <th></th>\n",
       "      <th></th>\n",
       "      <th></th>\n",
       "      <th></th>\n",
       "      <th></th>\n",
       "      <th></th>\n",
       "      <th></th>\n",
       "      <th></th>\n",
       "      <th></th>\n",
       "      <th></th>\n",
       "    </tr>\n",
       "  </thead>\n",
       "  <tbody>\n",
       "    <tr>\n",
       "      <td>juvenile</td>\n",
       "      <td>4.080032e+18</td>\n",
       "      <td>155418086093</td>\n",
       "      <td>200767</td>\n",
       "      <td>3062</td>\n",
       "      <td>38</td>\n",
       "      <td>51</td>\n",
       "      <td>24</td>\n",
       "      <td>286</td>\n",
       "      <td>8021</td>\n",
       "      <td>235661</td>\n",
       "    </tr>\n",
       "    <tr>\n",
       "      <td>youth</td>\n",
       "      <td>3.701380e+18</td>\n",
       "      <td>145423276715</td>\n",
       "      <td>680292</td>\n",
       "      <td>3380</td>\n",
       "      <td>810</td>\n",
       "      <td>226</td>\n",
       "      <td>448</td>\n",
       "      <td>423</td>\n",
       "      <td>8729</td>\n",
       "      <td>228860</td>\n",
       "    </tr>\n",
       "    <tr>\n",
       "      <td>middle-aged</td>\n",
       "      <td>6.598740e+18</td>\n",
       "      <td>250962168288</td>\n",
       "      <td>2224486</td>\n",
       "      <td>4168</td>\n",
       "      <td>12969</td>\n",
       "      <td>4559</td>\n",
       "      <td>2579</td>\n",
       "      <td>1063</td>\n",
       "      <td>14734</td>\n",
       "      <td>413931</td>\n",
       "    </tr>\n",
       "    <tr>\n",
       "      <td>elderly</td>\n",
       "      <td>1.920660e+18</td>\n",
       "      <td>75436740406</td>\n",
       "      <td>993611</td>\n",
       "      <td>251</td>\n",
       "      <td>7984</td>\n",
       "      <td>3107</td>\n",
       "      <td>309</td>\n",
       "      <td>685</td>\n",
       "      <td>3998</td>\n",
       "      <td>136611</td>\n",
       "    </tr>\n",
       "  </tbody>\n",
       "</table>\n",
       "</div>"
      ],
      "text/plain": [
       "                PatientId  AppointmentId      Age  Scholarship  Hipertension  \\\n",
       "Generation                                                                     \n",
       "juvenile     4.080032e+18   155418086093   200767         3062            38   \n",
       "youth        3.701380e+18   145423276715   680292         3380           810   \n",
       "middle-aged  6.598740e+18   250962168288  2224486         4168         12969   \n",
       "elderly      1.920660e+18    75436740406   993611          251          7984   \n",
       "\n",
       "             Diabetes  Alcoholism  Handicap  SMS_received  TimeSpan  \n",
       "Generation                                                           \n",
       "juvenile           51          24       286          8021    235661  \n",
       "youth             226         448       423          8729    228860  \n",
       "middle-aged      4559        2579      1063         14734    413931  \n",
       "elderly          3107         309       685          3998    136611  "
      ]
     },
     "execution_count": 23,
     "metadata": {},
     "output_type": "execute_result"
    }
   ],
   "source": [
    "#统计不同年龄段患各类的疾病数\n",
    "desease = df.groupby('Generation').sum()\n",
    "\n",
    "desease"
   ]
  },
  {
   "cell_type": "code",
   "execution_count": 24,
   "metadata": {},
   "outputs": [
    {
     "data": {
      "image/png": "[encoded data removed]",
      "text/plain": [
       "<Figure size 432x288 with 1 Axes>"
      ]
     },
     "metadata": {},
     "output_type": "display_data"
    }
   ],
   "source": [
    "#绘制饼状图\n",
    "Hipertension_pie=desease.Hipertension.plot(kind = 'pie',autopct='%.0f%%');\n"
   ]
  },
  {
   "cell_type": "code",
   "execution_count": 25,
   "metadata": {},
   "outputs": [
    {
     "data": {
      "image/png": "[encoded data removed]",
      "text/plain": [
       "<Figure size 432x288 with 1 Axes>"
      ]
     },
     "metadata": {},
     "output_type": "display_data"
    }
   ],
   "source": [
    "Diabetes_pie = desease.Diabetes.plot(kind = 'pie',autopct='%.0f%%');"
   ]
  },
  {
   "cell_type": "code",
   "execution_count": 26,
   "metadata": {},
   "outputs": [
    {
     "data": {
      "image/png": "[encoded data removed]",
      "text/plain": [
       "<Figure size 432x288 with 1 Axes>"
      ]
     },
     "metadata": {},
     "output_type": "display_data"
    }
   ],
   "source": [
    "Alcoholism = desease.Alcoholism\t.plot(kind = 'pie',autopct='%.0f%%');"
   ]
  },
  {
   "cell_type": "markdown",
   "metadata": {},
   "source": [
    "### 可以看出这三种疾病患者的比例全部都是中年人最多，其中酗酒中年人所占比例远远超过其他年龄段。三种疾病未成年人患者最少。虽然高血压和糖尿病，老人患者的比例大于青年人，但是酗酒方面青年人比例占上风。"
   ]
  },
  {
   "cell_type": "markdown",
   "metadata": {},
   "source": [
    "<a id='conclusions'></a>\n",
    "## 结论\n",
    "### 1、随着等待时间的增加，爽约的比例就越高。当天预约的人准时就诊的概率远高于其他的情况。\n",
    "### 2、青年人和未成年人的爽约比例要大于中年人和老年人。中老年人按时就诊的可能性最高。\n",
    "### 3、短信对于如约就诊没有帮助\n",
    "### 4、患高血压、糖尿病、酗酒的人群中，中年人比例全部是最多的。酗酒人群中，中年人远超过其他年龄段。未成年人患这三种疾病的较少。虽然高血压和糖尿病患者，老年人多于中年人，但是青年人酗酒要比老年人严重。"
   ]
  }
 ],
 "metadata": {
  "kernelspec": {
   "display_name": "Python 3",
   "language": "python",
   "name": "python3"
  },
  "language_info": {
   "codemirror_mode": {
    "name": "ipython",
    "version": 3
   },
   "file_extension": ".py",
   "mimetype": "text/x-python",
   "name": "python",
   "nbconvert_exporter": "python",
   "pygments_lexer": "ipython3",
   "version": "3.7.4"
  }
 },
 "nbformat": 4,
 "nbformat_minor": 2
}
